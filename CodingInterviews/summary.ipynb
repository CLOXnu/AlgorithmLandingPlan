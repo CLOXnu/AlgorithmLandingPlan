{
 "cells": [
  {
   "source": [
    "# Summary\n"
   ],
   "cell_type": "markdown",
   "metadata": {
    "collapsed": true,
    "pycharm": {
     "name": "#%% md\n"
    }
   }
  },
  {
   "cell_type": "code",
   "execution_count": null,
   "outputs": [],
   "source": [
    "# 树的基本结构\n",
    "class TreeNode:\n",
    "    def __init__(self, val='', left=None, right=None):\n",
    "        self.val = val\n",
    "        self.left = left\n",
    "        self.right = right"
   ],
   "metadata": {
    "collapsed": false,
    "pycharm": {
     "name": "#%%\n"
    }
   }
  },
  {
   "cell_type": "code",
   "execution_count": null,
   "outputs": [],
   "source": [
    "test = TreeNode('A', left=TreeNode('B', left=TreeNode('D'), right=TreeNode('E')), right=TreeNode('C', left=TreeNode('F', left=TreeNode('H'), right=TreeNode('I')), right=TreeNode('G')))"
   ],
   "metadata": {
    "collapsed": false,
    "pycharm": {
     "name": "#%%\n"
    }
   }
  },
  {
   "cell_type": "markdown",
   "source": [
    "该 test 表示的树\n",
    "```\n",
    "     A\n",
    "   /   \\\n",
    "  B     C\n",
    " / \\   / \\\n",
    "D   E F   G\n",
    "     / \\\n",
    "    H   I\n",
    "\n",
    "```"
   ],
   "metadata": {
    "collapsed": false
   }
  },
  {
   "cell_type": "markdown",
   "source": [
    "## I. DFS / BFS\n",
    "\n"
   ],
   "metadata": {
    "collapsed": false
   }
  },
  {
   "cell_type": "code",
   "execution_count": null,
   "outputs": [],
   "source": [
    "# 简单前序遍历递归写法\n",
    "def dfs(node: TreeNode):\n",
    "    if node is None: return\n",
    "    print(node.val, end=\" \") # 访问结点\n",
    "    dfs(node.left)\n",
    "    dfs(node.right)\n",
    "dfs(test)"
   ],
   "metadata": {
    "collapsed": false,
    "pycharm": {
     "name": "#%%\n"
    }
   }
  },
  {
   "cell_type": "code",
   "execution_count": null,
   "outputs": [],
   "source": [
    "# 简单前序遍历迭代写法\n",
    "def dfs(root: TreeNode):\n",
    "    if root is None: return\n",
    "    stack = []\n",
    "    stack.append(root)\n",
    "    while len(stack) > 0:\n",
    "        node = stack.pop()\n",
    "        print(node.val, end=\" \") # 访问结点\n",
    "        # 入栈先入右，再入左\n",
    "        if node.right is not None:\n",
    "            stack.append(node.right)\n",
    "        if node.left is not None:\n",
    "            stack.append(node.left)\n",
    "dfs(test)"
   ],
   "metadata": {
    "collapsed": false,
    "pycharm": {
     "name": "#%%\n"
    }
   }
  },
  {
   "cell_type": "code",
   "execution_count": null,
   "outputs": [],
   "source": [
    "import queue\n",
    "\n",
    "# 简单层序遍历迭代写法\n",
    "def bfs(root: TreeNode):\n",
    "    if root is None: return\n",
    "    q = queue.Queue()\n",
    "    q.put(root)\n",
    "    while q.qsize() > 0:\n",
    "        node = q.get()\n",
    "        print(node.val, end=\" \")\n",
    "        # 入队先入左，再入右\n",
    "        if node.left is not None:\n",
    "            q.put(node.left)\n",
    "        if node.right is not None:\n",
    "            q.put(node.right)\n",
    "bfs(test)"
   ],
   "metadata": {
    "collapsed": false,
    "pycharm": {
     "name": "#%%\n"
    }
   }
  },
  {
   "cell_type": "code",
   "execution_count": null,
   "outputs": [],
   "source": [],
   "metadata": {
    "collapsed": false,
    "pycharm": {
     "name": "#%%\n"
    }
   }
  },
  {
   "cell_type": "code",
   "execution_count": 1,
   "metadata": {},
   "outputs": [],
   "source": []
  },
  {
   "cell_type": "code",
   "execution_count": 2,
   "metadata": {},
   "outputs": [],
   "source": [
    "test = TreeNode('A', left=TreeNode('B', left=TreeNode('D'), right=TreeNode('E')), right=TreeNode('C', left=TreeNode('F', left=TreeNode('H'), right=TreeNode('I')), right=TreeNode('G')))"
   ]
  },
  {
   "source": [
    "该 test 表示的树\n",
    "```\n",
    "     A\n",
    "   /   \\\n",
    "  B     C\n",
    " / \\   / \\\n",
    "D   E F   G\n",
    "     / \\\n",
    "    H   I\n",
    "\n",
    "```"
   ],
   "cell_type": "markdown",
   "metadata": {}
  },
  {
   "source": [
    "## I. DFS / BFS\n",
    "\n"
   ],
   "cell_type": "markdown",
   "metadata": {}
  },
  {
   "cell_type": "code",
   "execution_count": 4,
   "metadata": {},
   "outputs": [
    {
     "output_type": "stream",
     "name": "stdout",
     "text": [
      "A B D E C F H I G "
     ]
    }
   ],
   "source": [
    "# 简单前序遍历递归写法\n",
    "def dfs(node: TreeNode):\n",
    "    if node is None: return\n",
    "    print(node.val, end=\" \") # 访问结点\n",
    "    dfs(node.left)\n",
    "    dfs(node.right)\n",
    "dfs(test)"
   ]
  },
  {
   "cell_type": "code",
   "execution_count": 9,
   "metadata": {},
   "outputs": [
    {
     "output_type": "stream",
     "name": "stdout",
     "text": [
      "A B D E C F H I G "
     ]
    }
   ],
   "source": [
    "# 简单前序遍历迭代写法\n",
    "def dfs(root: TreeNode):\n",
    "    if root is None: return\n",
    "    stack = []\n",
    "    stack.append(root)\n",
    "    while len(stack) > 0:\n",
    "        node = stack.pop()\n",
    "        print(node.val, end=\" \") # 访问结点\n",
    "        # 入栈先入右，再入左\n",
    "        if node.right is not None:\n",
    "            stack.append(node.right)\n",
    "        if node.left is not None:\n",
    "            stack.append(node.left)\n",
    "dfs(test)"
   ]
  },
  {
   "cell_type": "code",
   "execution_count": 14,
   "metadata": {},
   "outputs": [
    {
     "output_type": "stream",
     "name": "stdout",
     "text": [
      "A B C D E F G H I "
     ]
    }
   ],
   "source": [
    "import queue\n",
    "\n",
    "# 简单层序遍历迭代写法\n",
    "def bfs(root: TreeNode):\n",
    "    if root is None: return\n",
    "    q = queue.Queue()\n",
    "    q.put(root)\n",
    "    while q.qsize() > 0:\n",
    "        node = q.get()\n",
    "        print(node.val, end=\" \")\n",
    "        # 入队先入左，再入右\n",
    "        if node.left is not None:\n",
    "            q.put(node.left)\n",
    "        if node.right is not None:\n",
    "            q.put(node.right)\n",
    "bfs(test)"
   ]
  },
  {
   "cell_type": "code",
   "execution_count": null,
   "metadata": {},
   "outputs": [],
   "source": []
  }
 ],
 "metadata": {
  "kernelspec": {
   "name": "python3",
   "display_name": "Python 3.9.0 64-bit",
   "metadata": {
    "interpreter": {
     "hash": "8494bdf1392e8405936e83e9e69341b7f0af5d9fcd1aea10896083f090805f9d"
    }
   }
  },
  "language_info": {
   "codemirror_mode": {
    "name": "ipython",
    "version": 2
   },
   "file_extension": ".py",
   "mimetype": "text/x-python",
   "name": "python",
   "nbconvert_exporter": "python",
   "pygments_lexer": "ipython2",
   "version": "3.9.0-final"
  }
 },
 "nbformat": 4,
 "nbformat_minor": 0
}