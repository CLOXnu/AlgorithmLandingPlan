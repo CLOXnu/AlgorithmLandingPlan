{
 "metadata": {
  "language_info": {
   "codemirror_mode": {
    "name": "ipython",
    "version": 3
   },
   "file_extension": ".py",
   "mimetype": "text/x-python",
   "name": "python",
   "nbconvert_exporter": "python",
   "pygments_lexer": "ipython3",
   "version": "3.9.0-final"
  },
  "orig_nbformat": 2,
  "kernelspec": {
   "name": "python3",
   "display_name": "Python 3.9.0 64-bit",
   "metadata": {
    "interpreter": {
     "hash": "8494bdf1392e8405936e83e9e69341b7f0af5d9fcd1aea10896083f090805f9d"
    }
   }
  }
 },
 "nbformat": 4,
 "nbformat_minor": 2,
 "cells": [
  {
   "cell_type": "code",
   "execution_count": 3,
   "metadata": {},
   "outputs": [],
   "source": [
    "import threading, time\n",
    "\n",
    "def multi_thread_func():\n",
    "    print(\"thread {} is running...\".format(threading.current_thread().name))\n",
    "    for i in range(5):\n",
    "        print(\"thread {}: {}\".format(threading.current_thread().name, i))\n",
    "        time.sleep(0.5)\n",
    "    print(\"thread {} is ended.\".format(threading.current_thread().name))"
   ]
  },
  {
   "cell_type": "code",
   "execution_count": 4,
   "metadata": {},
   "outputs": [
    {
     "output_type": "stream",
     "name": "stdout",
     "text": [
      "thread thread1 is running...\n",
      "thread thread1: 0\n",
      "thread thread2 is running...\n",
      "thread thread2: 0\n",
      "thread thread1: 1\n",
      "thread thread2: 1\n",
      "thread thread1: 2\n",
      "thread thread2: 2\n",
      "thread thread1: 3\n",
      "thread thread2: 3\n",
      "thread thread1: 4\n",
      "thread thread2: 4\n",
      "thread thread1 is ended.\n",
      "thread thread2 is ended.\n"
     ]
    }
   ],
   "source": [
    "t1 = threading.Thread(target=multi_thread_func, name=\"thread1\")\n",
    "t2 = threading.Thread(target=multi_thread_func, name=\"thread2\")\n",
    "\n",
    "t1.start()\n",
    "t2.start()\n",
    "t1.join()\n",
    "t2.join()"
   ]
  },
  {
   "cell_type": "code",
   "execution_count": null,
   "metadata": {},
   "outputs": [],
   "source": [
    "class multi_thread_class(threading.Thread):\n",
    "    def __init__(self):\n",
    "        threading.Thread.__init__(self)\n",
    "    def run(self):\n",
    "        for i in range(5):\n",
    "            print(\"thread {}: {}\".format(threading.current_thread().name, i))\n",
    "            time.sleep(0.5)\n",
    "    print(\"thread {} is ended.\".format(threading.current_thread().name))"
   ]
  }
 ]
}